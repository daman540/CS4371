{
 "cells": [
  {
   "cell_type": "code",
   "execution_count": 1,
   "metadata": {},
   "outputs": [],
   "source": [
    "# WRONG PLEASE DO NOT USE, INSTEAD USE dh.py\n",
    "\n",
    "# Helper functions\n",
    "\n",
    "# Write Function 1 power(a,b,p) that returns a^b mod p using Python’s\n",
    "# pow function. Handle special case if b == 1\n",
    "def power(a, b, p):\n",
    "    # <Enter your code here>\n",
    "    if b == 1:\n",
    "        return a % p\n",
    "    \n",
    "    return pow(a, b, p) # base, exponent, modulus\n",
    "\n",
    "# Write Function 2 that generates and returns a public key using P,G,\n",
    "# and a privateKey chosen by the sender\n",
    "def dh_generatePublicKey(P,G,privateKey):\n",
    "    # <Enter your code here>\n",
    "    public_key = pow(G, privateKey, P)\n",
    "    return public_key\n",
    "\n",
    "# Write Function 3 that generates and returns a private key using the\n",
    "# publicKey, privateKey and P chosen by the sender\n",
    "def dh_generateSecretKey(publicKey, privateKey, P):\n",
    "    # <Enter your code here>\n",
    "    secret_key = pow(publicKey, privateKey, P)\n",
    "    return secret_key"
   ]
  },
  {
   "cell_type": "code",
   "execution_count": 2,
   "metadata": {},
   "outputs": [
    {
     "name": "stdout",
     "output_type": "stream",
     "text": [
      "The value of P:  23\n",
      "The value of G:  9\n",
      "The private key a for Alice: 4\n",
      "The private key b for Bob: 3\n",
      "Secret key for the Alice is: 8\n",
      "Secret Key for the Bob is: 2\n"
     ]
    }
   ],
   "source": [
    "# Main function\n",
    "def main():\n",
    "    P = 0; G = 0; x = 0; a = x;\n",
    "    y = 0; b = 0;\n",
    "    ka = 0; kb = 0;\n",
    "\n",
    "    # Both the users will be agreed upon the public keys G and P\n",
    "    P = 337; # A prime number P is taken\n",
    "    print(\"The value of P: \", P);\n",
    "\n",
    "    G = 3; # Primitive root for P, G is taken\n",
    "    print(\"The value of G: \", G);\n",
    "\n",
    "    # Alice will choose the private key a\n",
    "    a = 7; # a is the chosen private key\n",
    "    print(\"The private key a for Alice:\", a);\n",
    "    # <Enter code here which calls the appropriate function from above\n",
    "    # to generate public key for Alice>\n",
    "    alice_public_key = dh_generatePublicKey(P, G, a)\n",
    "\n",
    "\n",
    "    # Bob will choose the private key b\n",
    "    b = 11; # b is the chosen private key\n",
    "    print(\"The private key b for Bob:\", b);\n",
    "\n",
    "    # <Enter code here which calls the appropriate function from above\n",
    "    # to generate public key for Bob>\n",
    "    bob_public_key = dh_generatePublicKey(P, G, b)\n",
    "\n",
    "    # Generating the secret key after the exchange of keys\n",
    "    # <Enter code here which calls the appropriate function from above\n",
    "    # to generate secret keys for both Alice and Bob. Test that these keys\n",
    "    # match>\n",
    "    ka = dh_generateSecretKey(alice_public_key, a, P)\n",
    "    kb = dh_generateSecretKey(bob_public_key, b, P)\n",
    "\n",
    "    \n",
    "    print(\"Secret key for the Alice is:\", str(ka));\n",
    "    print(\"Secret Key for the Bob is:\", str(kb));\n",
    "\n",
    "if __name__ == '__main__':\n",
    "    main()"
   ]
  }
 ],
 "metadata": {
  "kernelspec": {
   "display_name": "Python 3",
   "language": "python",
   "name": "python3"
  },
  "language_info": {
   "codemirror_mode": {
    "name": "ipython",
    "version": 3
   },
   "file_extension": ".py",
   "mimetype": "text/x-python",
   "name": "python",
   "nbconvert_exporter": "python",
   "pygments_lexer": "ipython3",
   "version": "3.10.11"
  },
  "orig_nbformat": 4
 },
 "nbformat": 4,
 "nbformat_minor": 2
}
