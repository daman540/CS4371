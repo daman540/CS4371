{
 "cells": [
  {
   "cell_type": "code",
   "execution_count": 1,
   "metadata": {},
   "outputs": [],
   "source": [
    "# TASK 1 & 2\n",
    "# -------------------------------\n",
    "# Takes in user input and ecrypts\n",
    "# using a custom encryption function\n",
    "# and will print the value.\n",
    "\n",
    "def customEncrypt(userText, N, D):\n",
    "    inputText = userText\n",
    "    encryptedString = ''\n",
    "    reverseText = inputText[::-1] # Reverses the input text\n",
    "    # Shifts all the ASCII values one-by-one\n",
    "    if D == 1:\n",
    "        for c in reverseText:\n",
    "            encryptedString += chr(ord(c) + N)\n",
    "    else:\n",
    "        for c in reverseText:\n",
    "            encryptedString += chr(ord(c) - N)\n",
    "    return str(encryptedString)\n"
   ]
  },
  {
   "cell_type": "code",
   "execution_count": 2,
   "metadata": {},
   "outputs": [
    {
     "name": "stdout",
     "output_type": "stream",
     "text": [
      "Testing Custom Encryption Algorithm\n",
      "Encrypted userid: hurkwduk\n",
      "Encrypted passwd: 654sphW\n",
      "Original userid:  hrathore\n",
      "Original passwd:  Temp123\n"
     ]
    }
   ],
   "source": [
    "# Helper functions testString\n",
    "# Tests any strings inputting by the user\n",
    "# param: string s\n",
    "def testString(s):\n",
    "    while ' ' in s or '!' in s:\n",
    "        # Contains invalid character\n",
    "        return -1\n",
    "    # All good, proceed\n",
    "    return 1\n",
    "###########################################\n",
    "\n",
    "# Main function that gets called\n",
    "def testCustomEncrypt():\n",
    "    print(\"Testing Custom Encryption Algorithm\")\n",
    "    userID  = input(\"Enter UserID as text: \")\n",
    "    # Takes in username without space nor '!'\n",
    "    while testString(userID) == -1:\n",
    "        userID = input(\"Enter UserID as text (no spaces nor '!'): \")\n",
    "\n",
    "    # Takes in passwd without space nor '!'\n",
    "    passwd = input(\"Enter password as text: \")\n",
    "    while testString(passwd) == -1:\n",
    "        passwd = input(\"Enter password as text (no spaces nor '!'): \")\n",
    "\n",
    "    # Positions to shift characters\n",
    "    N = int(input(\"How many letters to shift by: \"))\n",
    "    # Number must be greater than 1\n",
    "    while N < 1:\n",
    "        N = int(input(\"Many letters to shift by (Num >= 1): \"))\n",
    "    \n",
    "    # Direction of shift.\n",
    "    # Note: \n",
    "    # 1  -> Shift Right\n",
    "    # -1 -> Shift Left\n",
    "    D = int(input(\"Direction of shift: \"))\n",
    "    # Number must be 1 or -1\n",
    "    while D != -1 and D != 1:\n",
    "        D = int(input(\"Direction of shift (1 -> right or -1 -> left): \"))\n",
    "\n",
    "    # Encrypts the username and passwd\n",
    "    encrypted_user = customEncrypt(userID, N, D)\n",
    "    encrypted_pass = customEncrypt(passwd, N, D)\n",
    "\n",
    "    # Converts username and passwd to original\n",
    "    # input by flipping the direction of shift\n",
    "    original_user = customEncrypt(encrypted_user, N, D*-1)\n",
    "    original_pass = customEncrypt(encrypted_pass, N, D*-1)\n",
    "\n",
    "    # Print to user the encrypted version of username and passwd\n",
    "    print(\"Encrypted userid: \" + str(encrypted_user))\n",
    "    print(\"Encrypted passwd: \" + str(encrypted_pass))\n",
    "    # Print to user the unencrypted version of the username and passwd\n",
    "    print(\"Original userid:  \" + original_user)\n",
    "    print(\"Original passwd:  \" + original_pass)\n",
    "\n",
    "\n",
    "testCustomEncrypt()"
   ]
  }
 ],
 "metadata": {
  "kernelspec": {
   "display_name": "Python 3",
   "language": "python",
   "name": "python3"
  },
  "language_info": {
   "codemirror_mode": {
    "name": "ipython",
    "version": 3
   },
   "file_extension": ".py",
   "mimetype": "text/x-python",
   "name": "python",
   "nbconvert_exporter": "python",
   "pygments_lexer": "ipython3",
   "version": "3.10.10"
  },
  "orig_nbformat": 4
 },
 "nbformat": 4,
 "nbformat_minor": 2
}
